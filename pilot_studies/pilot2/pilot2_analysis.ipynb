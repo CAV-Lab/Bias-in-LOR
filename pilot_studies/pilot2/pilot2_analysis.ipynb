{
 "cells": [
  {
   "cell_type": "code",
   "execution_count": 58,
   "metadata": {},
   "outputs": [],
   "source": [
    "import pandas as pd\n",
    "import numpy as np\n",
    "from scipy import stats\n",
    "import csv\n",
    "import matplotlib.pyplot as plt"
   ]
  },
  {
   "attachments": {},
   "cell_type": "markdown",
   "metadata": {},
   "source": [
    "### Data process"
   ]
  },
  {
   "cell_type": "code",
   "execution_count": 8,
   "metadata": {},
   "outputs": [],
   "source": [
    "# Convert text competitive rating to numerical \n",
    "competitive_mapping = {\n",
    "'Extremely uncompetitive': 1,\n",
    "'Uncompetitive': 2,\n",
    "'Somewhat uncompetitive': 3, \n",
    "'Neutral (neither competitive nor uncompetitive)':4,\n",
    "'Somewhat competitive': 5,\n",
    "'Competitive': 6,\n",
    "'Extremely competitive': 7\n",
    "}\n",
    "\n",
    "groud_truth_gender = {\n",
    "'letter1': 'Female',\n",
    "'letter2': 'Female',\n",
    "'letter3': 'Female',\n",
    "'letter4': 'Male'\n",
    "}\n",
    "\n",
    "ground_truth_writer_gender = {\n",
    "'letter1': 'Male',\n",
    "'letter2': 'Male',\n",
    "'letter3': 'Male',\n",
    "'letter4': 'Male'\n",
    "}\n",
    "\n",
    "ground_truth_strength = {\n",
    "'letter1': 'Weak',\n",
    "'letter2': 'Weak',\n",
    "'letter3': 'Strong',\n",
    "'letter4': 'Strong'\n",
    "}"
   ]
  },
  {
   "cell_type": "code",
   "execution_count": 35,
   "metadata": {},
   "outputs": [],
   "source": [
    "df1 = pd.read_excel('Responses/letter1_control.xlsx')  \n",
    "df2 = pd.read_excel('Responses/letter1_mitigation.xlsx') \n",
    "df3 = pd.read_excel('Responses/letter2_control.xlsx') \n",
    "df4 = pd.read_excel('Responses/letter2_mitigation.xlsx') \n",
    "df5 = pd.read_excel('Responses/letter3_control.xlsx') \n",
    "df6 = pd.read_excel('Responses/letter3_mitigation.xlsx') \n",
    "df7 = pd.read_excel('Responses/letter4_control.xlsx') \n",
    "df8 = pd.read_excel('Responses/letter4_mitigation.xlsx') \n",
    "\n",
    "df1['actual_gender'] = 'Female'\n",
    "df2['actual_gender'] = 'Female'\n",
    "df3['actual_gender'] = 'Female'\n",
    "df4['actual_gender'] = 'Female'\n",
    "df5['actual_gender'] = 'Female'\n",
    "df6['actual_gender'] = 'Female'\n",
    "df7['actual_gender'] = 'Male'\n",
    "df8['actual_gender'] = 'Male'\n",
    "\n",
    "\n",
    "df1['competitive_score'] = df1['competitiveness'].apply(lambda x: competitive_mapping[x])\n",
    "df2['competitive_score'] = df2['competitiveness'].apply(lambda x: competitive_mapping[x])\n",
    "df3['competitive_score'] = df3['competitiveness'].apply(lambda x: competitive_mapping[x])\n",
    "df4['competitive_score'] = df4['competitiveness'].apply(lambda x: competitive_mapping[x])\n",
    "df5['competitive_score'] = df5['competitiveness'].apply(lambda x: competitive_mapping[x])\n",
    "df6['competitive_score'] = df6['competitiveness'].apply(lambda x: competitive_mapping[x])\n",
    "df7['competitive_score'] = df7['competitiveness'].apply(lambda x: competitive_mapping[x])\n",
    "df8['competitive_score'] = df8['competitiveness'].apply(lambda x: competitive_mapping[x])"
   ]
  },
  {
   "attachments": {},
   "cell_type": "markdown",
   "metadata": {},
   "source": [
    "### Candidate Gender Question Analysis "
   ]
  },
  {
   "cell_type": "code",
   "execution_count": 10,
   "metadata": {},
   "outputs": [],
   "source": [
    "def get_accuracy(df, column, ground_truth):\n",
    "    ans = df[column].values.tolist()\n",
    "    correct = 0\n",
    "    for val in ans:\n",
    "        if val == ground_truth:\n",
    "            correct += 1\n",
    "    # return correct, len(ans) - correct, correct / len(ans)\n",
    "    return correct / len(ans)"
   ]
  },
  {
   "attachments": {},
   "cell_type": "markdown",
   "metadata": {},
   "source": [
    "#### Accuracy of candidate gender question"
   ]
  },
  {
   "cell_type": "code",
   "execution_count": 16,
   "metadata": {},
   "outputs": [
    {
     "name": "stdout",
     "output_type": "stream",
     "text": [
      "0.5384615384615384\n",
      "0.5454545454545454\n",
      "0.6363636363636364\n",
      "0.45454545454545453\n"
     ]
    }
   ],
   "source": [
    "# Accuracy for each letter\n",
    "print(get_accuracy(df1, 'candidate_gender', groud_truth_gender['letter1']))\n",
    "print(get_accuracy(df3, 'candidate_gender', groud_truth_gender['letter2']))\n",
    "print(get_accuracy(df5, 'candidate_gender', groud_truth_gender['letter3']))\n",
    "print(get_accuracy(df7, 'candidate_gender', groud_truth_gender['letter4']))"
   ]
  },
  {
   "cell_type": "code",
   "execution_count": 17,
   "metadata": {},
   "outputs": [
    {
     "name": "stdout",
     "output_type": "stream",
     "text": [
      "0.5437062937062936\n"
     ]
    }
   ],
   "source": [
    "# Average accuaracy of the 4 letters\n",
    "print(np.mean([get_accuracy(df1, 'candidate_gender', groud_truth_gender['letter1']),\n",
    "              get_accuracy(df3, 'candidate_gender', groud_truth_gender['letter2']),\n",
    "              get_accuracy(df5, 'candidate_gender', groud_truth_gender['letter3']),\n",
    "              get_accuracy(df7, 'candidate_gender', groud_truth_gender['letter4'])]))"
   ]
  },
  {
   "attachments": {},
   "cell_type": "markdown",
   "metadata": {},
   "source": [
    "#### Confidence"
   ]
  },
  {
   "cell_type": "code",
   "execution_count": 20,
   "metadata": {},
   "outputs": [
    {
     "data": {
      "text/plain": [
       "50.980769230769226"
      ]
     },
     "execution_count": 20,
     "metadata": {},
     "output_type": "execute_result"
    }
   ],
   "source": [
    "# Control group\n",
    "np.mean([df1['candidate_gender_confidence'].describe()['mean'],\n",
    "       df3['candidate_gender_confidence'].describe()['mean'],\n",
    "        df5['candidate_gender_confidence'].describe()['mean'],\n",
    "       df7['candidate_gender_confidence'].describe()['mean']])"
   ]
  },
  {
   "cell_type": "code",
   "execution_count": 19,
   "metadata": {},
   "outputs": [
    {
     "data": {
      "text/plain": [
       "56.87083333333334"
      ]
     },
     "execution_count": 19,
     "metadata": {},
     "output_type": "execute_result"
    }
   ],
   "source": [
    "# Intervention group\n",
    "np.mean([df2['candidate_gender_confidence'].describe()['mean'],\n",
    "       df4['candidate_gender_confidence'].describe()['mean'],\n",
    "        df6['candidate_gender_confidence'].describe()['mean'],\n",
    "       df8['candidate_gender_confidence'].describe()['mean']])"
   ]
  },
  {
   "attachments": {},
   "cell_type": "markdown",
   "metadata": {},
   "source": [
    "#### Accuracy of letter writer gender question"
   ]
  },
  {
   "cell_type": "code",
   "execution_count": 18,
   "metadata": {},
   "outputs": [
    {
     "name": "stdout",
     "output_type": "stream",
     "text": [
      "0.6153846153846154\n",
      "0.7272727272727273\n",
      "0.6363636363636364\n",
      "0.7272727272727273\n"
     ]
    }
   ],
   "source": [
    "# Accuracy for each letter\n",
    "print(get_accuracy(df1, 'writer_gender', ground_truth_writer_gender['letter1']))\n",
    "print(get_accuracy(df3, 'writer_gender', ground_truth_writer_gender['letter2']))\n",
    "print(get_accuracy(df5, 'writer_gender', ground_truth_writer_gender['letter3']))\n",
    "print(get_accuracy(df7, 'writer_gender', ground_truth_writer_gender['letter4']))"
   ]
  },
  {
   "attachments": {},
   "cell_type": "markdown",
   "metadata": {},
   "source": [
    "### Competiveness rating analysis"
   ]
  },
  {
   "cell_type": "code",
   "execution_count": 29,
   "metadata": {},
   "outputs": [],
   "source": [
    "df1['group'] = 'control'\n",
    "df1['quality'] = 'weak'\n",
    "df2['group'] = 'intervention'\n",
    "df2['quality'] = 'weak'\n",
    "df3['group'] = 'control'\n",
    "df3['quality'] = 'weak'\n",
    "df4['group'] = 'intervention'\n",
    "df4['quality'] = 'weak'\n",
    "df5['group'] = 'control'\n",
    "df5['quality'] = 'strong'\n",
    "df6['group'] = 'intervention'\n",
    "df6['quality'] = 'strong'\n",
    "df7['group'] = 'control'\n",
    "df7['quality'] = 'strong'\n",
    "df8['group'] = 'intervention'\n",
    "df8['quality'] = 'strong'\n",
    "df1['publication'] = 1\n",
    "df2['publication'] = 1\n",
    "df3['publication'] = 0\n",
    "df4['publication'] = 0\n",
    "df5['publication'] = 1\n",
    "df6['publication'] = 1\n",
    "df7['publication'] = 0\n",
    "df8['publication'] = 0\n",
    "\n",
    "data = pd.concat([df1,df2,df3,df4,df5,df6,df7,df8])"
   ]
  },
  {
   "cell_type": "code",
   "execution_count": 33,
   "metadata": {},
   "outputs": [
    {
     "data": {
      "text/html": [
       "<table class=\"simpletable\">\n",
       "<caption>OLS Regression Results</caption>\n",
       "<tr>\n",
       "  <th>Dep. Variable:</th>    <td>competitive_score</td> <th>  R-squared:         </th> <td>   0.050</td>\n",
       "</tr>\n",
       "<tr>\n",
       "  <th>Model:</th>                   <td>OLS</td>        <th>  Adj. R-squared:    </th> <td>   0.002</td>\n",
       "</tr>\n",
       "<tr>\n",
       "  <th>Method:</th>             <td>Least Squares</td>   <th>  F-statistic:       </th> <td>   1.044</td>\n",
       "</tr>\n",
       "<tr>\n",
       "  <th>Date:</th>             <td>Mon, 01 May 2023</td>  <th>  Prob (F-statistic):</th>  <td> 0.361</td> \n",
       "</tr>\n",
       "<tr>\n",
       "  <th>Time:</th>                 <td>02:47:41</td>      <th>  Log-Likelihood:    </th> <td> -63.022</td>\n",
       "</tr>\n",
       "<tr>\n",
       "  <th>No. Observations:</th>      <td>    43</td>       <th>  AIC:               </th> <td>   132.0</td>\n",
       "</tr>\n",
       "<tr>\n",
       "  <th>Df Residuals:</th>          <td>    40</td>       <th>  BIC:               </th> <td>   137.3</td>\n",
       "</tr>\n",
       "<tr>\n",
       "  <th>Df Model:</th>              <td>     2</td>       <th>                     </th>     <td> </td>   \n",
       "</tr>\n",
       "<tr>\n",
       "  <th>Covariance Type:</th>      <td>nonrobust</td>     <th>                     </th>     <td> </td>   \n",
       "</tr>\n",
       "</table>\n",
       "<table class=\"simpletable\">\n",
       "<tr>\n",
       "              <td></td>                <th>coef</th>     <th>std err</th>      <th>t</th>      <th>P>|t|</th>  <th>[0.025</th>    <th>0.975]</th>  \n",
       "</tr>\n",
       "<tr>\n",
       "  <th>Intercept</th>                <td>    2.6429</td> <td>    0.143</td> <td>   18.509</td> <td> 0.000</td> <td>    2.354</td> <td>    2.932</td>\n",
       "</tr>\n",
       "<tr>\n",
       "  <th>C(group)[T.intervention]</th> <td>   -0.4130</td> <td>    0.334</td> <td>   -1.238</td> <td> 0.223</td> <td>   -1.087</td> <td>    0.261</td>\n",
       "</tr>\n",
       "<tr>\n",
       "  <th>C(quality)[T.weak]</th>       <td>    2.6429</td> <td>    0.143</td> <td>   18.509</td> <td> 0.000</td> <td>    2.354</td> <td>    2.932</td>\n",
       "</tr>\n",
       "<tr>\n",
       "  <th>C(publication)[T.1]</th>      <td>    0.2415</td> <td>    0.332</td> <td>    0.727</td> <td> 0.471</td> <td>   -0.430</td> <td>    0.913</td>\n",
       "</tr>\n",
       "</table>\n",
       "<table class=\"simpletable\">\n",
       "<tr>\n",
       "  <th>Omnibus:</th>       <td> 5.015</td> <th>  Durbin-Watson:     </th> <td>   2.041</td>\n",
       "</tr>\n",
       "<tr>\n",
       "  <th>Prob(Omnibus):</th> <td> 0.081</td> <th>  Jarque-Bera (JB):  </th> <td>   4.074</td>\n",
       "</tr>\n",
       "<tr>\n",
       "  <th>Skew:</th>          <td>-0.743</td> <th>  Prob(JB):          </th> <td>   0.130</td>\n",
       "</tr>\n",
       "<tr>\n",
       "  <th>Kurtosis:</th>      <td> 3.259</td> <th>  Cond. No.          </th> <td>1.00e+17</td>\n",
       "</tr>\n",
       "</table><br/><br/>Notes:<br/>[1] Standard Errors assume that the covariance matrix of the errors is correctly specified.<br/>[2] The smallest eigenvalue is 1.09e-32. This might indicate that there are<br/>strong multicollinearity problems or that the design matrix is singular."
      ],
      "text/plain": [
       "<class 'statsmodels.iolib.summary.Summary'>\n",
       "\"\"\"\n",
       "                            OLS Regression Results                            \n",
       "==============================================================================\n",
       "Dep. Variable:      competitive_score   R-squared:                       0.050\n",
       "Model:                            OLS   Adj. R-squared:                  0.002\n",
       "Method:                 Least Squares   F-statistic:                     1.044\n",
       "Date:                Mon, 01 May 2023   Prob (F-statistic):              0.361\n",
       "Time:                        02:47:41   Log-Likelihood:                -63.022\n",
       "No. Observations:                  43   AIC:                             132.0\n",
       "Df Residuals:                      40   BIC:                             137.3\n",
       "Df Model:                           2                                         \n",
       "Covariance Type:            nonrobust                                         \n",
       "============================================================================================\n",
       "                               coef    std err          t      P>|t|      [0.025      0.975]\n",
       "--------------------------------------------------------------------------------------------\n",
       "Intercept                    2.6429      0.143     18.509      0.000       2.354       2.932\n",
       "C(group)[T.intervention]    -0.4130      0.334     -1.238      0.223      -1.087       0.261\n",
       "C(quality)[T.weak]           2.6429      0.143     18.509      0.000       2.354       2.932\n",
       "C(publication)[T.1]          0.2415      0.332      0.727      0.471      -0.430       0.913\n",
       "==============================================================================\n",
       "Omnibus:                        5.015   Durbin-Watson:                   2.041\n",
       "Prob(Omnibus):                  0.081   Jarque-Bera (JB):                4.074\n",
       "Skew:                          -0.743   Prob(JB):                        0.130\n",
       "Kurtosis:                       3.259   Cond. No.                     1.00e+17\n",
       "==============================================================================\n",
       "\n",
       "Notes:\n",
       "[1] Standard Errors assume that the covariance matrix of the errors is correctly specified.\n",
       "[2] The smallest eigenvalue is 1.09e-32. This might indicate that there are\n",
       "strong multicollinearity problems or that the design matrix is singular.\n",
       "\"\"\""
      ]
     },
     "execution_count": 33,
     "metadata": {},
     "output_type": "execute_result"
    }
   ],
   "source": [
    "import statsmodels.api as sm\n",
    "from statsmodels.formula.api import ols\n",
    "\n",
    "# Linear regression using 3 predictors \n",
    "model = ols('competitive_score ~ C(group) + C(quality) +  C(publication)', data).fit()\n",
    "model.summary()"
   ]
  },
  {
   "cell_type": "code",
   "execution_count": 36,
   "metadata": {},
   "outputs": [
    {
     "name": "stdout",
     "output_type": "stream",
     "text": [
      "Average rating( weak letter 1 control group):  5.769230769230769\n",
      "Average rating( weak letter 1 intervention group):  4.8\n",
      "T test:  Ttest_indResult(statistic=1.998861187688811, pvalue=0.05873205991399604)\n",
      "\n",
      "Average rating( weak letter 2 control group):  5.0\n",
      "Average rating( weak letters 2 intervention group):  5.222222222222222\n",
      "T test:  Ttest_indResult(statistic=-0.5318431562567512, pvalue=0.6013377723537647)\n",
      "\n",
      "Average rating( strong letter 1 control group):  6.090909090909091\n",
      "Average rating( strong letters 1 intervention group):  5.4\n",
      "T test:  Ttest_indResult(statistic=1.4931448535603078, pvalue=0.15181983177069422)\n",
      "\n",
      "Average rating( strong letter 2 control group):  5.636363636363637\n",
      "Average rating( strong letters 2 intervention group):  5.625\n",
      "T test:  Ttest_indResult(statistic=0.02861129921751694, pvalue=0.9775078023296868)\n"
     ]
    }
   ],
   "source": [
    "#Compare ratings between control and intervention group for each letter\n",
    "\n",
    "ratings_control1 = df1['competitive_score'].values.tolist()\n",
    "ratings_control2 =  df3['competitive_score'].values.tolist()\n",
    "ratings_control3 = df5['competitive_score'].values.tolist()\n",
    "ratings_control4 =  df7['competitive_score'].values.tolist()\n",
    "ratings_mitigation1 = df2['competitive_score'].values.tolist() \n",
    "ratings_mitigation2 = df4['competitive_score'].values.tolist()\n",
    "ratings_mitigation3 = df6['competitive_score'].values.tolist() \n",
    "ratings_mitigation4 = df8['competitive_score'].values.tolist()\n",
    "\n",
    "# compare average rating of weak letter 1\n",
    "avg_ratings_weak1_control = np.mean(ratings_control1)\n",
    "avg_ratings_weak1_exp = np.mean(ratings_mitigation1)\n",
    "print(\"Average rating( weak letter 1 control group): \", avg_ratings_weak1_control)\n",
    "print(\"Average rating( weak letter 1 intervention group): \", avg_ratings_weak1_exp)\n",
    "#  Statistical testing\n",
    "print(\"T test: \", stats.ttest_ind(ratings_control1, ratings_mitigation1))\n",
    "\n",
    "\n",
    "# compare average rating of weak letter 2\n",
    "avg_ratings_weak2_control = np.mean(ratings_control2)\n",
    "avg_ratings_weak2_exp = np.mean(ratings_mitigation2)\n",
    "print(\"\\nAverage rating( weak letter 2 control group): \", avg_ratings_weak2_control)\n",
    "print(\"Average rating( weak letters 2 intervention group): \", avg_ratings_weak2_exp)\n",
    "#  Statistical testing\n",
    "print(\"T test: \", stats.ttest_ind(ratings_control2, ratings_mitigation2))\n",
    "\n",
    "# compare average rating of strong letter 1\n",
    "avg_ratings_strong1_control = np.mean(ratings_control3)\n",
    "avg_ratings_strong1_exp = np.mean(ratings_mitigation3)\n",
    "print(\"\\nAverage rating( strong letter 1 control group): \", avg_ratings_strong1_control)\n",
    "print(\"Average rating( strong letters 1 intervention group): \", avg_ratings_strong1_exp)\n",
    "#  Statistical testing\n",
    "print(\"T test: \", stats.ttest_ind(ratings_control3, ratings_mitigation3))\n",
    "\n",
    "# compare average rating of strong letter 2\n",
    "avg_ratings_strong2_control = np.mean(ratings_control4)\n",
    "avg_ratings_strong2_exp = np.mean(ratings_mitigation4)\n",
    "print(\"\\nAverage rating( strong letter 2 control group): \", avg_ratings_strong2_control)\n",
    "print(\"Average rating( strong letters 2 intervention group): \", avg_ratings_strong2_exp)\n",
    "#  Statistical testing\n",
    "print(\"T test: \", stats.ttest_ind(ratings_control4, ratings_mitigation4))\n"
   ]
  },
  {
   "attachments": {},
   "cell_type": "markdown",
   "metadata": {},
   "source": [
    "### Gender Characteristics"
   ]
  },
  {
   "cell_type": "code",
   "execution_count": 57,
   "metadata": {},
   "outputs": [],
   "source": [
    "from collections import defaultdict\n",
    "\n",
    "female_words_dict = defaultdict(int)\n",
    "male_words_dict = defaultdict(int)\n",
    "female_words = data['candidate_female_characteristics_words'].dropna().values.tolist()\n",
    "male_words = data['candidate_male_characteristics_words'].dropna().values.tolist()\n",
    "\n",
    "for words in female_words:\n",
    "    splited = words.split(',')\n",
    "    for word in splited:\n",
    "        if len(word) > 0: \n",
    "            female_words_dict[word.split(':')[1]] += 1\n",
    "\n",
    "for words in male_words:\n",
    "    splited = words.split(',')\n",
    "    for word in splited:\n",
    "        if len(word) > 0: \n",
    "            male_words_dict[word.split(':')[1]] += 1\n",
    "\n",
    "\n",
    "sorted_female_words_dict = sorted(female_words_dict.items(), key=lambda x:x[1], reverse=True)\n",
    "\n",
    "sorted_male_words_dict = sorted(male_words_dict.items(), key=lambda x:x[1], reverse=True)\n",
    "\n",
    "with open('Results/female_indicator.csv', 'w') as csvfile:\n",
    "    writer = csv.writer(csvfile)\n",
    "    writer.writerow(['word', 'frequency'])\n",
    "\n",
    "    writer.writerows(sorted_female_words_dict)\n",
    "\n",
    "with open('Results/male_indicator.csv', 'w') as csvfile:\n",
    "    writer = csv.writer(csvfile)\n",
    "    writer.writerow(['word', 'frequency'])\n",
    "\n",
    "    writer.writerows(sorted_male_words_dict)"
   ]
  },
  {
   "attachments": {},
   "cell_type": "markdown",
   "metadata": {},
   "source": [
    "### Competitiveness Characteristics"
   ]
  },
  {
   "cell_type": "code",
   "execution_count": 56,
   "metadata": {},
   "outputs": [],
   "source": [
    "competitive_words_dict = defaultdict(int)\n",
    "uncompetitive_words_dict = defaultdict(int)\n",
    "competitive_words = data['competitive_characteristics_words'].dropna().values.tolist()\n",
    "uncompetitive_words = data['uncompetitive_characteristics_words'].dropna().values.tolist()\n",
    "\n",
    "for words in competitive_words:\n",
    "    splited = words.split(',')\n",
    "    for word in splited:\n",
    "        if len(word) > 0: \n",
    "            competitive_words_dict[word.split(':')[1]] += 1\n",
    "\n",
    "for words in uncompetitive_words:\n",
    "    splited = words.split(',')\n",
    "    for word in splited:\n",
    "        if len(word) > 0: \n",
    "            uncompetitive_words_dict[word.split(':')[1]] += 1\n",
    "\n",
    "sorted_competitive_words_dict = sorted(competitive_words_dict.items(), key=lambda x:x[1], reverse=True)\n",
    "\n",
    "sorted_uncompetitive_words_dict = sorted(uncompetitive_words_dict.items(), key=lambda x:x[1], reverse=True)\n",
    "\n",
    "with open('Results/competitive_indicator.csv', 'w') as csvfile:\n",
    "    writer = csv.writer(csvfile)\n",
    "    writer.writerow(['word', 'frequency'])\n",
    "    writer.writerows(sorted_competitive_words_dict)\n",
    "\n",
    "with open('Results/uncompetitive_indicator.csv', 'w') as csvfile:\n",
    "    writer = csv.writer(csvfile)\n",
    "    writer.writerow(['word', 'frequency'])\n",
    "    writer.writerows(sorted_uncompetitive_words_dict)\n",
    "\n"
   ]
  },
  {
   "attachments": {},
   "cell_type": "markdown",
   "metadata": {},
   "source": [
    "### Intervention Feature Score"
   ]
  },
  {
   "cell_type": "code",
   "execution_count": 59,
   "metadata": {},
   "outputs": [],
   "source": [
    "options = [\n",
    " 'Strongly disagree',\n",
    " 'Disagree',\n",
    " 'Somewhat disagree',\n",
    " 'Neither agree nor disagree',\n",
    " 'Somewhat agree',\n",
    " 'Agree',\n",
    " 'Strongly agree',\n",
    " ]\n",
    "\n",
    "options_ticks = [\n",
    " 'Strongly disagree',\n",
    " 'Disagree',\n",
    " 'Somewhat disagree',\n",
    " 'Neutral',\n",
    " 'Somewhat agree',\n",
    " 'Agree',\n",
    " 'Strongly agree',\n",
    " ]"
   ]
  },
  {
   "attachments": {},
   "cell_type": "markdown",
   "metadata": {},
   "source": [
    "#### Influence in ratings"
   ]
  },
  {
   "cell_type": "code",
   "execution_count": 64,
   "metadata": {},
   "outputs": [
    {
     "data": {
      "image/png": "[encoded data removed]",
      "text/plain": [
       "<Figure size 1200x600 with 1 Axes>"
      ]
     },
     "metadata": {},
     "output_type": "display_data"
    }
   ],
   "source": [
    "df_all_mitigation = pd.concat([df2,df4,df6,df8])\n",
    "\n",
    "\n",
    "highlight = df_all_mitigation['WordHighlighting_influenced _rating'].value_counts()\n",
    "wordcount = df_all_mitigation['WordCountText_influenced _rating'].value_counts()\n",
    "barchart = df_all_mitigation['WordCountBarchart_influenced _rating'].value_counts()\n",
    "\n",
    "values_highlight = []\n",
    "values_wordcount = []\n",
    "values_barchart = []\n",
    "for option in options:\n",
    "    values_highlight.append(highlight[option])\n",
    "    values_wordcount.append(wordcount[option])\n",
    "    values_barchart.append(barchart[option])\n",
    "\n",
    "values_highlight = []\n",
    "values_wordcount = []\n",
    "values_barchart = []\n",
    "for option in options:\n",
    "    values_highlight.append(highlight[option])\n",
    "    values_wordcount.append(wordcount[option])\n",
    "    values_barchart.append(barchart[option])\n",
    "\n",
    "x = np.arange(7)\n",
    "width = 0.2\n",
    "\n",
    "plt.figure(figsize=(12,6))\n",
    "plt.bar(x, values_highlight, width)\n",
    "plt.bar(x + width, values_wordcount, width)\n",
    "plt.bar(x+ width*2, values_barchart, width)\n",
    "plt.xticks(x + width, options_ticks)\n",
    "plt.ylabel(\"Count\")\n",
    "plt.legend([\"Highlight\", \"Word Count Text\", \"Barchart\"])\n",
    "plt.title('The feature influenced rating')\n",
    "plt.savefig('Results/influence_rating_barchart')\n",
    "plt.show()"
   ]
  },
  {
   "attachments": {},
   "cell_type": "markdown",
   "metadata": {},
   "source": [
    "#### Increased awareness of gender language"
   ]
  },
  {
   "cell_type": "code",
   "execution_count": 65,
   "metadata": {},
   "outputs": [
    {
     "data": {
      "image/png": "[encoded data removed]",
      "text/plain": [
       "<Figure size 1200x600 with 1 Axes>"
      ]
     },
     "metadata": {},
     "output_type": "display_data"
    }
   ],
   "source": [
    "# Useful for increase awarness in gendered language\n",
    "highlight = df_all_mitigation['WordHighlighting_awareness_gendered_language'].value_counts()\n",
    "wordcount = df_all_mitigation['WordCountText_awareness_gendered_language'].value_counts()\n",
    "barchart = df_all_mitigation['WordCountBarchart_awareness_gendered_language'].value_counts()\n",
    "\n",
    "values_highlight = []\n",
    "values_wordcount = []\n",
    "values_barchart = []\n",
    "for option in options:\n",
    "    try:\n",
    "        values_highlight.append(highlight[option])\n",
    "    except:\n",
    "        values_highlight.append(0)\n",
    "    try:\n",
    "        values_wordcount.append(wordcount[option])\n",
    "    except:\n",
    "        values_wordcount.append(0)\n",
    "    try:\n",
    "        values_barchart.append(barchart[option])\n",
    "    except:\n",
    "        values_barchart.append(0)\n",
    "\n",
    "x = np.arange(7)\n",
    "width = 0.2\n",
    "\n",
    "plt.figure(figsize=(12,6))\n",
    "plt.bar(x, values_highlight, width)\n",
    "plt.bar(x + width, values_wordcount, width)\n",
    "plt.bar(x+ width*2, values_barchart, width)\n",
    "plt.xticks(x + width, options_ticks)\n",
    "plt.ylabel(\"Count\")\n",
    "plt.legend([\"Highlight\", \"Word Count Text\", \"Barchart\"])\n",
    "plt.title('The feature increased awareness')\n",
    "plt.savefig('Results/increase_awareness_barchart')\n",
    "plt.show()"
   ]
  },
  {
   "attachments": {},
   "cell_type": "markdown",
   "metadata": {},
   "source": [
    "#### Liked the feature"
   ]
  },
  {
   "cell_type": "code",
   "execution_count": 66,
   "metadata": {},
   "outputs": [
    {
     "data": {
      "image/png": "[encoded data removed]",
      "text/plain": [
       "<Figure size 1200x600 with 1 Axes>"
      ]
     },
     "metadata": {},
     "output_type": "display_data"
    }
   ],
   "source": [
    "# Liked\n",
    "highlight = df_all_mitigation['WordHighlighting_liked'].value_counts()\n",
    "wordcount = df_all_mitigation['WordCountText_liked'].value_counts()\n",
    "barchart = df_all_mitigation['WordCountBarchart_liked'].value_counts()\n",
    "\n",
    "values_highlight = []\n",
    "values_wordcount = []\n",
    "values_barchart = []\n",
    "for option in options:\n",
    "    try:\n",
    "        values_highlight.append(highlight[option])\n",
    "    except:\n",
    "        values_highlight.append(0)\n",
    "    try:\n",
    "        values_wordcount.append(wordcount[option])\n",
    "    except:\n",
    "        values_wordcount.append(0)\n",
    "    try:\n",
    "        values_barchart.append(barchart[option])\n",
    "    except:\n",
    "        values_barchart.append(0)\n",
    "\n",
    "x = np.arange(7)\n",
    "width = 0.2\n",
    "\n",
    "plt.figure(figsize=(12,6))\n",
    "plt.bar(x, values_highlight, width)\n",
    "plt.bar(x + width, values_wordcount, width)\n",
    "plt.bar(x+ width*2, values_barchart, width)\n",
    "plt.xticks(x + width, options_ticks)\n",
    "plt.ylabel(\"Count\")\n",
    "plt.legend([\"Highlight\", \"Word Count Text\", \"Barchart\"])\n",
    "plt.title('Liked the feature')\n",
    "plt.savefig('Results/liked_barchart')\n",
    "plt.show()"
   ]
  }
 ],
 "metadata": {
  "kernelspec": {
   "display_name": "Python 3",
   "language": "python",
   "name": "python3"
  },
  "language_info": {
   "codemirror_mode": {
    "name": "ipython",
    "version": 3
   },
   "file_extension": ".py",
   "mimetype": "text/x-python",
   "name": "python",
   "nbconvert_exporter": "python",
   "pygments_lexer": "ipython3",
   "version": "3.9.6"
  },
  "orig_nbformat": 4,
  "vscode": {
   "interpreter": {
    "hash": "31f2aee4e71d21fbe5cf8b01ff0e069b9275f58929596ceb00d14d90e3e16cd6"
   }
  }
 },
 "nbformat": 4,
 "nbformat_minor": 2
}
